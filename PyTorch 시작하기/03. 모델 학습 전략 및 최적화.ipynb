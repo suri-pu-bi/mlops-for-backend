{
  "nbformat": 4,
  "nbformat_minor": 0,
  "metadata": {
    "colab": {
      "provenance": []
    },
    "kernelspec": {
      "name": "python3",
      "display_name": "Python 3"
    },
    "language_info": {
      "name": "python"
    }
  },
  "cells": [
    {
      "cell_type": "markdown",
      "source": [
        "## 모델 학습 전략 및 최적화\n",
        "MNIST 데이터를 활용한 모델 학습 전략과 최적화 방법 (비용 함수 및 최적화 알고리즘에 대한 이해)"
      ],
      "metadata": {
        "id": "IPc_SfGgEnje"
      }
    },
    {
      "cell_type": "code",
      "source": [
        "import torch\n",
        "import torch.nn as nn"
      ],
      "metadata": {
        "id": "G11AUkybE4d1"
      },
      "execution_count": 1,
      "outputs": []
    },
    {
      "cell_type": "code",
      "source": [
        "loss_function = nn.CrossEntropyLoss()"
      ],
      "metadata": {
        "id": "4L4S_C01E8FT"
      },
      "execution_count": 2,
      "outputs": []
    },
    {
      "cell_type": "code",
      "source": [
        "loss = loss_function(torch.tensor([[ # 각 클래스에 대한 출력 신호값\n",
        "    0.8982,\n",
        "    0.805,\n",
        "    0.6393,\n",
        "    0.9983,\n",
        "    0.5731,\n",
        "    0.0469,\n",
        "    0.556,\n",
        "    0.1476,\n",
        "    1.2404, # 8번째 인덱스에 해당하는 값이 가장 높기 때문에 8을 정답으로 예측\n",
        "    0.5544\n",
        "]]), torch.LongTensor([3])) # 3번째 인덱스에 해당하는 클래스가 정답\n",
        "loss.item()"
      ],
      "metadata": {
        "colab": {
          "base_uri": "https://localhost:8080/"
        },
        "id": "XtiK8mn7FE_Q",
        "outputId": "402cd46b-2838-4e64-8d1a-064e8080781f"
      },
      "execution_count": 11,
      "outputs": [
        {
          "output_type": "execute_result",
          "data": {
            "text/plain": [
              "2.0085251331329346"
            ]
          },
          "metadata": {},
          "execution_count": 11
        }
      ]
    },
    {
      "cell_type": "code",
      "source": [
        "loss = loss_function(torch.Tensor([[\n",
        "    3e-5,\n",
        "    5e-3,\n",
        "    1e-6,\n",
        "    0.9204, # 3을 정답으로 예측\n",
        "    2e-3,\n",
        "    3e-4,\n",
        "    5e-4,\n",
        "    5e-5,\n",
        "    0.176, # 하지만 .. 8도 출력신호강도가 높음\n",
        "    5e-4\n",
        "]]), torch.LongTensor([3])) # 실제정답값도 3으로 예측\n",
        "loss.item()\n",
        "# 모델이 정답을 맞추긴 했지만, 8에 해당하는 출력값도 비교적 높기 때문에 loss값이 좀 크게 나타난다.\n",
        "# 이런 경우도 신호강도를 조정할 때, 패널티를 준다는 것을 알 수 있다."
      ],
      "metadata": {
        "colab": {
          "base_uri": "https://localhost:8080/"
        },
        "id": "r7J5mHznFd6G",
        "outputId": "a34e4dae-cbfd-4c45-b825-94bbc0482ee1"
      },
      "execution_count": 12,
      "outputs": [
        {
          "output_type": "execute_result",
          "data": {
            "text/plain": [
              "1.5401395559310913"
            ]
          },
          "metadata": {},
          "execution_count": 12
        }
      ]
    },
    {
      "cell_type": "code",
      "source": [
        "loss = loss_function(torch.Tensor([[\n",
        "    3e-8,\n",
        "    5e-5,\n",
        "    1e-6,\n",
        "    2.4204, # 3이 특출나게 높음\n",
        "    2e-5,\n",
        "    3e-5,\n",
        "    5e-4,\n",
        "    5e-5,\n",
        "    6e-4, # 8의 신호강도도 정답값 제외 다른값들이랑 비슷함\n",
        "    5e-4\n",
        "]]), torch.LongTensor([3]))\n",
        "loss.item()\n",
        "# loss값이 현저하게 낮아진 것을 알 수 있다."
      ],
      "metadata": {
        "colab": {
          "base_uri": "https://localhost:8080/"
        },
        "id": "lFJh0kciHrh4",
        "outputId": "81d48588-6f48-4fcd-f88d-8952cf063948"
      },
      "execution_count": 13,
      "outputs": [
        {
          "output_type": "execute_result",
          "data": {
            "text/plain": [
              "0.5878590941429138"
            ]
          },
          "metadata": {},
          "execution_count": 13
        }
      ]
    }
  ]
}